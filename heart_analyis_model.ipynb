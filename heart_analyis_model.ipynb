{
 "cells": [
  {
   "cell_type": "markdown",
   "id": "ad4b2ed2-3700-4adf-911e-0b3fde72f4f9",
   "metadata": {},
   "source": [
    "# Logistic Regression\n",
    "_CardioPredict harnesses the power of logistic regression to analyze key health indicators and provide a predictive model for assessing the risk of coronary heart disease in individuals._\n",
    "\n",
    "Data source: https://paulblanche.com/files/DataFramingham.html\n",
    "\n",
    "by Joel Wu, Sandra Gross, He Ma and Doris Wang (DSCI 522 Group 10 Milestone 1)\n",
    "\n",
    "2023/11/15"
   ]
  },
  {
   "cell_type": "code",
   "execution_count": 1,
   "id": "309a7ded-2dc5-416c-988e-4a18c8f5622f",
   "metadata": {},
   "outputs": [],
   "source": [
    "#Imports\n",
    "import numpy as np\n",
    "import pandas as pd\n",
    "import altair as alt\n",
    "from sklearn.model_selection import train_test_split\n",
    "from sklearn.preprocessing import StandardScaler\n",
    "from sklearn.impute import SimpleImputer\n",
    "from sklearn.compose import make_column_transformer\n",
    "from sklearn.pipeline import make_pipeline\n",
    "from sklearn.preprocessing import OneHotEncoder\n",
    "from sklearn.linear_model import LogisticRegression\n",
    "from sklearn.model_selection import GridSearchCV\n",
    "from sklearn.metrics import ConfusionMatrixDisplay\n",
    "from sklearn.metrics import classification_report\n",
    "from sklearn.metrics import make_scorer\n",
    "from sklearn.metrics import fbeta_score\n",
    "import matplotlib.pyplot as plt"
   ]
  },
  {
   "cell_type": "markdown",
   "id": "26031441-d6bb-4a89-a7da-bc7e070e82e1",
   "metadata": {},
   "source": [
    "#### Load and split the data"
   ]
  },
  {
   "cell_type": "code",
   "execution_count": 2,
   "id": "afa6c942-6814-43b5-866c-1496d3f4974d",
   "metadata": {},
   "outputs": [],
   "source": [
    "# 1. import data and split into train and test\n",
    "df = pd.read_csv(\"data/framingham.csv\")\n",
    "train_df, test_df = train_test_split(df, test_size=0.2, random_state=123)"
   ]
  },
  {
   "cell_type": "code",
   "execution_count": 3,
   "id": "031fac94-39a1-4435-a39e-30c80fdff430",
   "metadata": {},
   "outputs": [],
   "source": [
    "#Separate target value form train and test set \n",
    "X_train = train_df.drop(columns=\"disease\")\n",
    "y_train = train_df[\"disease\"]\n",
    "\n",
    "X_test = test_df.drop(columns=[\"disease\"])\n",
    "y_test = test_df[\"disease\"]"
   ]
  },
  {
   "cell_type": "markdown",
   "id": "db5aafbd-c29f-45c5-a8c6-702c58f10d21",
   "metadata": {},
   "source": [
    "#### Data\n",
    "The dataset utilized is derived from the \"Framingham Heart Study,\" encompassing observations on n=1,363 individuals. Each row contains  key health indicators for each person, as well as whether the person suffers from a coronary heart disease indicated by the values zero or one. \n"
   ]
  },
  {
   "cell_type": "markdown",
   "id": "75cef766-c7e9-4983-899a-2c56d2fb53aa",
   "metadata": {},
   "source": [
    "#### Preprocessing Data\n",
    "All the features appear to exhibit some relevance in predicting whether a patient has the disease or not. Therefore, we will refrain from excluding any feature from our model.\n",
    "\n",
    "##### Numeric features:\n",
    "- AGE\n",
    "- FRW\n",
    "- SBP\n",
    "- DBP\n",
    "- CHOl\n",
    "- CIG\n",
    "  \n",
    "To account for some of the missing values in the numeric columns, we need to do imputation. Due to the skewed distribution of specific features, especially CIG, it's recommended to use the median of the corresponding columns rather than the mean for imputing missing values.\n",
    "Moreover, given the varied scales of the features, it is essential to apply a StandardScaler."
   ]
  },
  {
   "cell_type": "code",
   "execution_count": 4,
   "id": "a1fd9e88-4813-41c9-b36f-e1038c4effb9",
   "metadata": {},
   "outputs": [],
   "source": [
    "#Create pipeline for numeric features \n",
    "numeric_pipe = make_pipeline(\n",
    "    SimpleImputer(strategy = \"median\"), StandardScaler()\n",
    ")"
   ]
  },
  {
   "cell_type": "markdown",
   "id": "b8ff6d8e-dac3-4e52-a96b-e594908f3657",
   "metadata": {},
   "source": [
    "##### Categorical Feature: \n",
    "- SEX\n",
    "  \n",
    "In this data set, gender is considered a binary feature. Consequently, we can employ `OneHotEncoding` with the `drop=\"if_binary\"`\n",
    " argument, resulting in the creation of a single binary-encoded column instead of two."
   ]
  },
  {
   "cell_type": "code",
   "execution_count": 5,
   "id": "dea2c843-8299-4ac9-9ed6-12f0c033f13c",
   "metadata": {},
   "outputs": [],
   "source": [
    "numeric_features = X_train.select_dtypes(include='number').columns.tolist()\n",
    "categorical_features = [\"sex\"]"
   ]
  },
  {
   "cell_type": "code",
   "execution_count": 6,
   "id": "b7204bfd-54e4-469c-a3a4-f37708c47068",
   "metadata": {},
   "outputs": [],
   "source": [
    "#Create Column Transformer \n",
    "preprocessor = make_column_transformer(    \n",
    "    (numeric_pipe, numeric_features),  \n",
    "    (OneHotEncoder(drop=\"if_binary\", sparse_output = False), categorical_features)\n",
    ")"
   ]
  },
  {
   "cell_type": "markdown",
   "id": "7c5f2860-b44e-44f7-8d5b-3a6424417bab",
   "metadata": {},
   "source": [
    "#### Model Selection\n",
    "We are interested in determining whether a patient suffers from a disease or not, which constitutes a classification problem. To address this, we employ a `Logistic Regression model`. Considering the substantial class imbalance and the fact that we are rather concerned about false negatives in the medical context — as we aim to minimize instances where patients miss critical treatment — we should make use of the argument class_weight argument. By trying out different values for the `class_weight`, we see that 1:6 seems to gives as a satisfactory result for our recall-precision trade off.\n"
   ]
  },
  {
   "cell_type": "code",
   "execution_count": 7,
   "id": "296c9473-4a00-4a4c-9439-309559715fd9",
   "metadata": {},
   "outputs": [],
   "source": [
    "pipe = make_pipeline(preprocessor, LogisticRegression(class_weight={0: 1, 1: 6}))"
   ]
  },
  {
   "cell_type": "markdown",
   "id": "76c3fbd4-96cb-4ce7-9d55-e87da554125a",
   "metadata": {},
   "source": [
    "#### Hyperparameter Optimization\n",
    "In order to find the best model and avoid under-/overfitting we want to improve the hyperparameter C of the LogisticRegression via Gridsearch."
   ]
  },
  {
   "cell_type": "code",
   "execution_count": 8,
   "id": "c027fe19-a85d-456a-b032-f7801001eea6",
   "metadata": {},
   "outputs": [
    {
     "data": {
      "text/html": [
       "<style>#sk-container-id-1 {color: black;}#sk-container-id-1 pre{padding: 0;}#sk-container-id-1 div.sk-toggleable {background-color: white;}#sk-container-id-1 label.sk-toggleable__label {cursor: pointer;display: block;width: 100%;margin-bottom: 0;padding: 0.3em;box-sizing: border-box;text-align: center;}#sk-container-id-1 label.sk-toggleable__label-arrow:before {content: \"▸\";float: left;margin-right: 0.25em;color: #696969;}#sk-container-id-1 label.sk-toggleable__label-arrow:hover:before {color: black;}#sk-container-id-1 div.sk-estimator:hover label.sk-toggleable__label-arrow:before {color: black;}#sk-container-id-1 div.sk-toggleable__content {max-height: 0;max-width: 0;overflow: hidden;text-align: left;background-color: #f0f8ff;}#sk-container-id-1 div.sk-toggleable__content pre {margin: 0.2em;color: black;border-radius: 0.25em;background-color: #f0f8ff;}#sk-container-id-1 input.sk-toggleable__control:checked~div.sk-toggleable__content {max-height: 200px;max-width: 100%;overflow: auto;}#sk-container-id-1 input.sk-toggleable__control:checked~label.sk-toggleable__label-arrow:before {content: \"▾\";}#sk-container-id-1 div.sk-estimator input.sk-toggleable__control:checked~label.sk-toggleable__label {background-color: #d4ebff;}#sk-container-id-1 div.sk-label input.sk-toggleable__control:checked~label.sk-toggleable__label {background-color: #d4ebff;}#sk-container-id-1 input.sk-hidden--visually {border: 0;clip: rect(1px 1px 1px 1px);clip: rect(1px, 1px, 1px, 1px);height: 1px;margin: -1px;overflow: hidden;padding: 0;position: absolute;width: 1px;}#sk-container-id-1 div.sk-estimator {font-family: monospace;background-color: #f0f8ff;border: 1px dotted black;border-radius: 0.25em;box-sizing: border-box;margin-bottom: 0.5em;}#sk-container-id-1 div.sk-estimator:hover {background-color: #d4ebff;}#sk-container-id-1 div.sk-parallel-item::after {content: \"\";width: 100%;border-bottom: 1px solid gray;flex-grow: 1;}#sk-container-id-1 div.sk-label:hover label.sk-toggleable__label {background-color: #d4ebff;}#sk-container-id-1 div.sk-serial::before {content: \"\";position: absolute;border-left: 1px solid gray;box-sizing: border-box;top: 0;bottom: 0;left: 50%;z-index: 0;}#sk-container-id-1 div.sk-serial {display: flex;flex-direction: column;align-items: center;background-color: white;padding-right: 0.2em;padding-left: 0.2em;position: relative;}#sk-container-id-1 div.sk-item {position: relative;z-index: 1;}#sk-container-id-1 div.sk-parallel {display: flex;align-items: stretch;justify-content: center;background-color: white;position: relative;}#sk-container-id-1 div.sk-item::before, #sk-container-id-1 div.sk-parallel-item::before {content: \"\";position: absolute;border-left: 1px solid gray;box-sizing: border-box;top: 0;bottom: 0;left: 50%;z-index: -1;}#sk-container-id-1 div.sk-parallel-item {display: flex;flex-direction: column;z-index: 1;position: relative;background-color: white;}#sk-container-id-1 div.sk-parallel-item:first-child::after {align-self: flex-end;width: 50%;}#sk-container-id-1 div.sk-parallel-item:last-child::after {align-self: flex-start;width: 50%;}#sk-container-id-1 div.sk-parallel-item:only-child::after {width: 0;}#sk-container-id-1 div.sk-dashed-wrapped {border: 1px dashed gray;margin: 0 0.4em 0.5em 0.4em;box-sizing: border-box;padding-bottom: 0.4em;background-color: white;}#sk-container-id-1 div.sk-label label {font-family: monospace;font-weight: bold;display: inline-block;line-height: 1.2em;}#sk-container-id-1 div.sk-label-container {text-align: center;}#sk-container-id-1 div.sk-container {/* jupyter's `normalize.less` sets `[hidden] { display: none; }` but bootstrap.min.css set `[hidden] { display: none !important; }` so we also need the `!important` here to be able to override the default hidden behavior on the sphinx rendered scikit-learn.org. See: https://github.com/scikit-learn/scikit-learn/issues/21755 */display: inline-block !important;position: relative;}#sk-container-id-1 div.sk-text-repr-fallback {display: none;}</style><div id=\"sk-container-id-1\" class=\"sk-top-container\"><div class=\"sk-text-repr-fallback\"><pre>GridSearchCV(estimator=Pipeline(steps=[(&#x27;columntransformer&#x27;,\n",
       "                                        ColumnTransformer(transformers=[(&#x27;pipeline&#x27;,\n",
       "                                                                         Pipeline(steps=[(&#x27;simpleimputer&#x27;,\n",
       "                                                                                          SimpleImputer(strategy=&#x27;median&#x27;)),\n",
       "                                                                                         (&#x27;standardscaler&#x27;,\n",
       "                                                                                          StandardScaler())]),\n",
       "                                                                         [&#x27;AGE&#x27;,\n",
       "                                                                          &#x27;FRW&#x27;,\n",
       "                                                                          &#x27;SBP&#x27;,\n",
       "                                                                          &#x27;DBP&#x27;,\n",
       "                                                                          &#x27;CHOL&#x27;,\n",
       "                                                                          &#x27;CIG&#x27;]),\n",
       "                                                                        (&#x27;onehotencoder&#x27;,\n",
       "                                                                         OneHotEncoder(drop=&#x27;if_binary&#x27;,\n",
       "                                                                                       sparse_output=False),\n",
       "                                                                         [&#x27;sex&#x27;])])),\n",
       "                                       (&#x27;logisticregression&#x27;,\n",
       "                                        LogisticRegression(class_weight={0: 1,\n",
       "                                                                         1: 6}))]),\n",
       "             n_jobs=-1,\n",
       "             param_grid={&#x27;logisticregression__C&#x27;: array([1.e-04, 1.e-03, 1.e-02, 1.e-01, 1.e+00, 1.e+01, 1.e+02, 1.e+03,\n",
       "       1.e+04, 1.e+05])},\n",
       "             return_train_score=True)</pre><b>In a Jupyter environment, please rerun this cell to show the HTML representation or trust the notebook. <br />On GitHub, the HTML representation is unable to render, please try loading this page with nbviewer.org.</b></div><div class=\"sk-container\" hidden><div class=\"sk-item sk-dashed-wrapped\"><div class=\"sk-label-container\"><div class=\"sk-label sk-toggleable\"><input class=\"sk-toggleable__control sk-hidden--visually\" id=\"sk-estimator-id-1\" type=\"checkbox\" ><label for=\"sk-estimator-id-1\" class=\"sk-toggleable__label sk-toggleable__label-arrow\">GridSearchCV</label><div class=\"sk-toggleable__content\"><pre>GridSearchCV(estimator=Pipeline(steps=[(&#x27;columntransformer&#x27;,\n",
       "                                        ColumnTransformer(transformers=[(&#x27;pipeline&#x27;,\n",
       "                                                                         Pipeline(steps=[(&#x27;simpleimputer&#x27;,\n",
       "                                                                                          SimpleImputer(strategy=&#x27;median&#x27;)),\n",
       "                                                                                         (&#x27;standardscaler&#x27;,\n",
       "                                                                                          StandardScaler())]),\n",
       "                                                                         [&#x27;AGE&#x27;,\n",
       "                                                                          &#x27;FRW&#x27;,\n",
       "                                                                          &#x27;SBP&#x27;,\n",
       "                                                                          &#x27;DBP&#x27;,\n",
       "                                                                          &#x27;CHOL&#x27;,\n",
       "                                                                          &#x27;CIG&#x27;]),\n",
       "                                                                        (&#x27;onehotencoder&#x27;,\n",
       "                                                                         OneHotEncoder(drop=&#x27;if_binary&#x27;,\n",
       "                                                                                       sparse_output=False),\n",
       "                                                                         [&#x27;sex&#x27;])])),\n",
       "                                       (&#x27;logisticregression&#x27;,\n",
       "                                        LogisticRegression(class_weight={0: 1,\n",
       "                                                                         1: 6}))]),\n",
       "             n_jobs=-1,\n",
       "             param_grid={&#x27;logisticregression__C&#x27;: array([1.e-04, 1.e-03, 1.e-02, 1.e-01, 1.e+00, 1.e+01, 1.e+02, 1.e+03,\n",
       "       1.e+04, 1.e+05])},\n",
       "             return_train_score=True)</pre></div></div></div><div class=\"sk-parallel\"><div class=\"sk-parallel-item\"><div class=\"sk-item\"><div class=\"sk-label-container\"><div class=\"sk-label sk-toggleable\"><input class=\"sk-toggleable__control sk-hidden--visually\" id=\"sk-estimator-id-2\" type=\"checkbox\" ><label for=\"sk-estimator-id-2\" class=\"sk-toggleable__label sk-toggleable__label-arrow\">estimator: Pipeline</label><div class=\"sk-toggleable__content\"><pre>Pipeline(steps=[(&#x27;columntransformer&#x27;,\n",
       "                 ColumnTransformer(transformers=[(&#x27;pipeline&#x27;,\n",
       "                                                  Pipeline(steps=[(&#x27;simpleimputer&#x27;,\n",
       "                                                                   SimpleImputer(strategy=&#x27;median&#x27;)),\n",
       "                                                                  (&#x27;standardscaler&#x27;,\n",
       "                                                                   StandardScaler())]),\n",
       "                                                  [&#x27;AGE&#x27;, &#x27;FRW&#x27;, &#x27;SBP&#x27;, &#x27;DBP&#x27;,\n",
       "                                                   &#x27;CHOL&#x27;, &#x27;CIG&#x27;]),\n",
       "                                                 (&#x27;onehotencoder&#x27;,\n",
       "                                                  OneHotEncoder(drop=&#x27;if_binary&#x27;,\n",
       "                                                                sparse_output=False),\n",
       "                                                  [&#x27;sex&#x27;])])),\n",
       "                (&#x27;logisticregression&#x27;,\n",
       "                 LogisticRegression(class_weight={0: 1, 1: 6}))])</pre></div></div></div><div class=\"sk-serial\"><div class=\"sk-item\"><div class=\"sk-serial\"><div class=\"sk-item sk-dashed-wrapped\"><div class=\"sk-label-container\"><div class=\"sk-label sk-toggleable\"><input class=\"sk-toggleable__control sk-hidden--visually\" id=\"sk-estimator-id-3\" type=\"checkbox\" ><label for=\"sk-estimator-id-3\" class=\"sk-toggleable__label sk-toggleable__label-arrow\">columntransformer: ColumnTransformer</label><div class=\"sk-toggleable__content\"><pre>ColumnTransformer(transformers=[(&#x27;pipeline&#x27;,\n",
       "                                 Pipeline(steps=[(&#x27;simpleimputer&#x27;,\n",
       "                                                  SimpleImputer(strategy=&#x27;median&#x27;)),\n",
       "                                                 (&#x27;standardscaler&#x27;,\n",
       "                                                  StandardScaler())]),\n",
       "                                 [&#x27;AGE&#x27;, &#x27;FRW&#x27;, &#x27;SBP&#x27;, &#x27;DBP&#x27;, &#x27;CHOL&#x27;, &#x27;CIG&#x27;]),\n",
       "                                (&#x27;onehotencoder&#x27;,\n",
       "                                 OneHotEncoder(drop=&#x27;if_binary&#x27;,\n",
       "                                               sparse_output=False),\n",
       "                                 [&#x27;sex&#x27;])])</pre></div></div></div><div class=\"sk-parallel\"><div class=\"sk-parallel-item\"><div class=\"sk-item\"><div class=\"sk-label-container\"><div class=\"sk-label sk-toggleable\"><input class=\"sk-toggleable__control sk-hidden--visually\" id=\"sk-estimator-id-4\" type=\"checkbox\" ><label for=\"sk-estimator-id-4\" class=\"sk-toggleable__label sk-toggleable__label-arrow\">pipeline</label><div class=\"sk-toggleable__content\"><pre>[&#x27;AGE&#x27;, &#x27;FRW&#x27;, &#x27;SBP&#x27;, &#x27;DBP&#x27;, &#x27;CHOL&#x27;, &#x27;CIG&#x27;]</pre></div></div></div><div class=\"sk-serial\"><div class=\"sk-item\"><div class=\"sk-serial\"><div class=\"sk-item\"><div class=\"sk-estimator sk-toggleable\"><input class=\"sk-toggleable__control sk-hidden--visually\" id=\"sk-estimator-id-5\" type=\"checkbox\" ><label for=\"sk-estimator-id-5\" class=\"sk-toggleable__label sk-toggleable__label-arrow\">SimpleImputer</label><div class=\"sk-toggleable__content\"><pre>SimpleImputer(strategy=&#x27;median&#x27;)</pre></div></div></div><div class=\"sk-item\"><div class=\"sk-estimator sk-toggleable\"><input class=\"sk-toggleable__control sk-hidden--visually\" id=\"sk-estimator-id-6\" type=\"checkbox\" ><label for=\"sk-estimator-id-6\" class=\"sk-toggleable__label sk-toggleable__label-arrow\">StandardScaler</label><div class=\"sk-toggleable__content\"><pre>StandardScaler()</pre></div></div></div></div></div></div></div></div><div class=\"sk-parallel-item\"><div class=\"sk-item\"><div class=\"sk-label-container\"><div class=\"sk-label sk-toggleable\"><input class=\"sk-toggleable__control sk-hidden--visually\" id=\"sk-estimator-id-7\" type=\"checkbox\" ><label for=\"sk-estimator-id-7\" class=\"sk-toggleable__label sk-toggleable__label-arrow\">onehotencoder</label><div class=\"sk-toggleable__content\"><pre>[&#x27;sex&#x27;]</pre></div></div></div><div class=\"sk-serial\"><div class=\"sk-item\"><div class=\"sk-estimator sk-toggleable\"><input class=\"sk-toggleable__control sk-hidden--visually\" id=\"sk-estimator-id-8\" type=\"checkbox\" ><label for=\"sk-estimator-id-8\" class=\"sk-toggleable__label sk-toggleable__label-arrow\">OneHotEncoder</label><div class=\"sk-toggleable__content\"><pre>OneHotEncoder(drop=&#x27;if_binary&#x27;, sparse_output=False)</pre></div></div></div></div></div></div></div></div><div class=\"sk-item\"><div class=\"sk-estimator sk-toggleable\"><input class=\"sk-toggleable__control sk-hidden--visually\" id=\"sk-estimator-id-9\" type=\"checkbox\" ><label for=\"sk-estimator-id-9\" class=\"sk-toggleable__label sk-toggleable__label-arrow\">LogisticRegression</label><div class=\"sk-toggleable__content\"><pre>LogisticRegression(class_weight={0: 1, 1: 6})</pre></div></div></div></div></div></div></div></div></div></div></div></div>"
      ],
      "text/plain": [
       "GridSearchCV(estimator=Pipeline(steps=[('columntransformer',\n",
       "                                        ColumnTransformer(transformers=[('pipeline',\n",
       "                                                                         Pipeline(steps=[('simpleimputer',\n",
       "                                                                                          SimpleImputer(strategy='median')),\n",
       "                                                                                         ('standardscaler',\n",
       "                                                                                          StandardScaler())]),\n",
       "                                                                         ['AGE',\n",
       "                                                                          'FRW',\n",
       "                                                                          'SBP',\n",
       "                                                                          'DBP',\n",
       "                                                                          'CHOL',\n",
       "                                                                          'CIG']),\n",
       "                                                                        ('onehotencoder',\n",
       "                                                                         OneHotEncoder(drop='if_binary',\n",
       "                                                                                       sparse_output=False),\n",
       "                                                                         ['sex'])])),\n",
       "                                       ('logisticregression',\n",
       "                                        LogisticRegression(class_weight={0: 1,\n",
       "                                                                         1: 6}))]),\n",
       "             n_jobs=-1,\n",
       "             param_grid={'logisticregression__C': array([1.e-04, 1.e-03, 1.e-02, 1.e-01, 1.e+00, 1.e+01, 1.e+02, 1.e+03,\n",
       "       1.e+04, 1.e+05])},\n",
       "             return_train_score=True)"
      ]
     },
     "execution_count": 8,
     "metadata": {},
     "output_type": "execute_result"
    }
   ],
   "source": [
    "# Create a grid search object to fine tune c\n",
    "param_grid = {\n",
    "  \"logisticregression__C\": 10.0 ** np.arange(-4, 6, 1),\n",
    "}\n",
    "gs = GridSearchCV(pipe, param_grid=param_grid, n_jobs=-1, return_train_score=True)\n",
    "gs.fit(X_train, y_train)"
   ]
  },
  {
   "cell_type": "code",
   "execution_count": 9,
   "id": "9bb7e18f-995e-4adb-accd-684fff65dbb9",
   "metadata": {},
   "outputs": [
    {
     "data": {
      "text/html": [
       "<style type=\"text/css\">\n",
       "</style>\n",
       "<table id=\"T_054f0\">\n",
       "  <caption><p style=\"text-align:left;\">Table 1: Results of Hyperparameter Optimization via Gridsearch</p></caption>\n",
       "  <thead>\n",
       "    <tr>\n",
       "      <th class=\"blank level0\" >&nbsp;</th>\n",
       "      <th id=\"T_054f0_level0_col0\" class=\"col_heading level0 col0\" >rank_test_score</th>\n",
       "      <th id=\"T_054f0_level0_col1\" class=\"col_heading level0 col1\" >param_logisticregression__C</th>\n",
       "      <th id=\"T_054f0_level0_col2\" class=\"col_heading level0 col2\" >mean_train_score</th>\n",
       "      <th id=\"T_054f0_level0_col3\" class=\"col_heading level0 col3\" >std_train_score</th>\n",
       "      <th id=\"T_054f0_level0_col4\" class=\"col_heading level0 col4\" >mean_test_score</th>\n",
       "      <th id=\"T_054f0_level0_col5\" class=\"col_heading level0 col5\" >std_test_score</th>\n",
       "    </tr>\n",
       "  </thead>\n",
       "  <tbody>\n",
       "    <tr>\n",
       "      <th id=\"T_054f0_level0_row0\" class=\"row_heading level0 row0\" >7</th>\n",
       "      <td id=\"T_054f0_row0_col0\" class=\"data row0 col0\" >1</td>\n",
       "      <td id=\"T_054f0_row0_col1\" class=\"data row0 col1\" >1000.000000</td>\n",
       "      <td id=\"T_054f0_row0_col2\" class=\"data row0 col2\" >0.526835</td>\n",
       "      <td id=\"T_054f0_row0_col3\" class=\"data row0 col3\" >0.025495</td>\n",
       "      <td id=\"T_054f0_row0_col4\" class=\"data row0 col4\" >0.519266</td>\n",
       "      <td id=\"T_054f0_row0_col5\" class=\"data row0 col5\" >0.032097</td>\n",
       "    </tr>\n",
       "    <tr>\n",
       "      <th id=\"T_054f0_level0_row1\" class=\"row_heading level0 row1\" >8</th>\n",
       "      <td id=\"T_054f0_row1_col0\" class=\"data row1 col0\" >1</td>\n",
       "      <td id=\"T_054f0_row1_col1\" class=\"data row1 col1\" >10000.000000</td>\n",
       "      <td id=\"T_054f0_row1_col2\" class=\"data row1 col2\" >0.526835</td>\n",
       "      <td id=\"T_054f0_row1_col3\" class=\"data row1 col3\" >0.025495</td>\n",
       "      <td id=\"T_054f0_row1_col4\" class=\"data row1 col4\" >0.519266</td>\n",
       "      <td id=\"T_054f0_row1_col5\" class=\"data row1 col5\" >0.032097</td>\n",
       "    </tr>\n",
       "    <tr>\n",
       "      <th id=\"T_054f0_level0_row2\" class=\"row_heading level0 row2\" >9</th>\n",
       "      <td id=\"T_054f0_row2_col0\" class=\"data row2 col0\" >1</td>\n",
       "      <td id=\"T_054f0_row2_col1\" class=\"data row2 col1\" >100000.000000</td>\n",
       "      <td id=\"T_054f0_row2_col2\" class=\"data row2 col2\" >0.526835</td>\n",
       "      <td id=\"T_054f0_row2_col3\" class=\"data row2 col3\" >0.025495</td>\n",
       "      <td id=\"T_054f0_row2_col4\" class=\"data row2 col4\" >0.519266</td>\n",
       "      <td id=\"T_054f0_row2_col5\" class=\"data row2 col5\" >0.032097</td>\n",
       "    </tr>\n",
       "    <tr>\n",
       "      <th id=\"T_054f0_level0_row3\" class=\"row_heading level0 row3\" >4</th>\n",
       "      <td id=\"T_054f0_row3_col0\" class=\"data row3 col0\" >4</td>\n",
       "      <td id=\"T_054f0_row3_col1\" class=\"data row3 col1\" >1.000000</td>\n",
       "      <td id=\"T_054f0_row3_col2\" class=\"data row3 col2\" >0.526835</td>\n",
       "      <td id=\"T_054f0_row3_col3\" class=\"data row3 col3\" >0.025495</td>\n",
       "      <td id=\"T_054f0_row3_col4\" class=\"data row3 col4\" >0.518349</td>\n",
       "      <td id=\"T_054f0_row3_col5\" class=\"data row3 col5\" >0.030150</td>\n",
       "    </tr>\n",
       "    <tr>\n",
       "      <th id=\"T_054f0_level0_row4\" class=\"row_heading level0 row4\" >5</th>\n",
       "      <td id=\"T_054f0_row4_col0\" class=\"data row4 col0\" >4</td>\n",
       "      <td id=\"T_054f0_row4_col1\" class=\"data row4 col1\" >10.000000</td>\n",
       "      <td id=\"T_054f0_row4_col2\" class=\"data row4 col2\" >0.526835</td>\n",
       "      <td id=\"T_054f0_row4_col3\" class=\"data row4 col3\" >0.025495</td>\n",
       "      <td id=\"T_054f0_row4_col4\" class=\"data row4 col4\" >0.518349</td>\n",
       "      <td id=\"T_054f0_row4_col5\" class=\"data row4 col5\" >0.030703</td>\n",
       "    </tr>\n",
       "  </tbody>\n",
       "</table>\n"
      ],
      "text/plain": [
       "<pandas.io.formats.style.Styler at 0x14960bee0>"
      ]
     },
     "execution_count": 9,
     "metadata": {},
     "output_type": "execute_result"
    }
   ],
   "source": [
    "gs_res = pd.DataFrame(gs.cv_results_)[[\n",
    "    'rank_test_score', 'param_logisticregression__C', \n",
    "    'mean_train_score', 'std_train_score', 'mean_test_score', 'std_test_score']].sort_values('rank_test_score').head(5)\n",
    "gs_res.style.set_caption('<p style=\"text-align:left;\">Table 1: Results of Hyperparameter Optimization via Gridsearch</p>')"
   ]
  },
  {
   "cell_type": "code",
   "execution_count": 10,
   "id": "02474ea3-8d68-4b1a-8658-a63dbade2b9e",
   "metadata": {},
   "outputs": [
    {
     "data": {
      "text/plain": [
       "{'logisticregression__C': 1000.0}"
      ]
     },
     "execution_count": 10,
     "metadata": {},
     "output_type": "execute_result"
    }
   ],
   "source": [
    "gs.best_params_ #value for C: 1000"
   ]
  },
  {
   "cell_type": "code",
   "execution_count": 11,
   "id": "1d86088d-29b6-4683-a698-36b88af4dc22",
   "metadata": {},
   "outputs": [
    {
     "data": {
      "text/plain": [
       "0.5192660550458716"
      ]
     },
     "execution_count": 11,
     "metadata": {},
     "output_type": "execute_result"
    }
   ],
   "source": [
    "gs.best_score_"
   ]
  },
  {
   "cell_type": "markdown",
   "id": "6bce6411-0b01-4541-916e-8c759f785427",
   "metadata": {},
   "source": [
    "#### Applying on test data"
   ]
  },
  {
   "cell_type": "code",
   "execution_count": 12,
   "id": "8c6889e6-00a5-478e-8bb6-94800665aafb",
   "metadata": {},
   "outputs": [
    {
     "data": {
      "text/plain": [
       "0.5531135531135531"
      ]
     },
     "execution_count": 12,
     "metadata": {},
     "output_type": "execute_result"
    }
   ],
   "source": [
    "gs.score(X_test, y_test)"
   ]
  },
  {
   "cell_type": "markdown",
   "id": "ba590acb-6f49-4c94-be70-72bd6e570f18",
   "metadata": {},
   "source": [
    "For test data, we get an accuracy of 53.1%. The accuracy is a metric which is defined to be the fraction of correct predictions divded by all predictions. \n",
    "This implies, that in 53% of our test examples we predict the target correctly, which seems to be pretty low. However, as mentioned above we should be careful when interpreting this metric especially in the case of the class imbalance, which is given in our data set. Instead, we should examine how the model predictions are correct and incorrect. "
   ]
  },
  {
   "cell_type": "markdown",
   "id": "d1498a97-0f7e-4a2b-81fc-8319a0d9c370",
   "metadata": {},
   "source": [
    "#### Visualization of Predictions Results"
   ]
  },
  {
   "cell_type": "code",
   "execution_count": 13,
   "id": "fdf037a7-d345-43ff-a153-a9944cea8caa",
   "metadata": {},
   "outputs": [
    {
     "data": {
      "image/png": "[encoded data removed]",
      "text/plain": [
       "<Figure size 640x480 with 2 Axes>"
      ]
     },
     "metadata": {},
     "output_type": "display_data"
    }
   ],
   "source": [
    "#Create a Confusion Matrix\n",
    "ConfusionMatrixDisplay.from_predictions(\n",
    "    y_test,  # true class labels\n",
    "    gs.predict(X_test),  # predicted class labels\n",
    ")\n",
    "plt.title('Figure 1: Confusion Matrix for Predicting on Test Data')\n",
    "plt.show()"
   ]
  },
  {
   "cell_type": "code",
   "execution_count": 27,
   "id": "f7163e82-862b-4fc8-983d-99cdda904619",
   "metadata": {},
   "outputs": [
    {
     "name": "stdout",
     "output_type": "stream",
     "text": [
      "Table 2: Classification Report for Test Data\n",
      "              precision    recall  f1-score   support\n",
      "\n",
      "           0       0.92      0.47      0.63       215\n",
      "           1       0.30      0.84      0.45        58\n",
      "\n",
      "    accuracy                           0.55       273\n",
      "   macro avg       0.61      0.66      0.54       273\n",
      "weighted avg       0.79      0.55      0.59       273\n",
      "\n"
     ]
    }
   ],
   "source": [
    "#Classification report\n",
    "print('Table 2: Classification Report for Test Data')\n",
    "print(\n",
    "    classification_report(\n",
    "        y_test, gs.predict(X_test)\n",
    "    )\n",
    ")"
   ]
  },
  {
   "cell_type": "markdown",
   "id": "820c7415-7910-434b-bee7-1518e2de7031",
   "metadata": {},
   "source": [
    "In the graphic and the classification report we can see that we have a very high recall score (0.84), which is desired in our scenario. However, the precision score with a value of 0.30 is pretty low as we have many false positives (Type I error) rather than false negatives, type II errors."
   ]
  },
  {
   "cell_type": "code",
   "execution_count": null,
   "id": "a3f16a38-525b-499d-b51b-7ce6a2fea17e",
   "metadata": {},
   "outputs": [],
   "source": []
  }
 ],
 "metadata": {
  "kernelspec": {
   "display_name": "Python [conda env:571]",
   "language": "python",
   "name": "conda-env-571-py"
  },
  "language_info": {
   "codemirror_mode": {
    "name": "ipython",
    "version": 3
   },
   "file_extension": ".py",
   "mimetype": "text/x-python",
   "name": "python",
   "nbconvert_exporter": "python",
   "pygments_lexer": "ipython3",
   "version": "3.10.0"
  }
 },
 "nbformat": 4,
 "nbformat_minor": 5
}
