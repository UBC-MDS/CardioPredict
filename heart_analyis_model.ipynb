{
 "cells": [
  {
   "cell_type": "markdown",
   "id": "ad4b2ed2-3700-4adf-911e-0b3fde72f4f9",
   "metadata": {},
   "source": [
    "# Logistic Regression\n",
    "_CardioPredict harnesses the power of logistic regression to analyze key health indicators and provide a predictive model for assessing the risk of coronary heart disease in individuals._\n",
    "\n",
    "Data source: https://paulblanche.com/files/DataFramingham.html\n",
    "\n",
    "by Joel Wu, Sandra Gross, He Ma and Doris Wang (DSCI 522 Group 10 Milestone 1)\n",
    "\n",
    "2023/11/15"
   ]
  },
  {
   "cell_type": "code",
   "execution_count": 1,
   "id": "309a7ded-2dc5-416c-988e-4a18c8f5622f",
   "metadata": {},
   "outputs": [],
   "source": [
    "#Imports\n",
    "import numpy as np\n",
    "import pandas as pd\n",
    "import imblearn\n",
    "import altair as alt\n",
    "from sklearn.model_selection import train_test_split\n",
    "from sklearn.preprocessing import StandardScaler\n",
    "from sklearn.impute import SimpleImputer\n",
    "from sklearn.model_selection import cross_validate\n",
    "from sklearn.compose import make_column_transformer\n",
    "from sklearn.pipeline import make_pipeline\n",
    "from imblearn.over_sampling import RandomOverSampler\n",
    "from sklearn.preprocessing import OneHotEncoder\n",
    "from sklearn.linear_model import LogisticRegression\n",
    "from sklearn.neighbors import KNeighborsClassifier\n",
    "from sklearn.model_selection import GridSearchCV\n",
    "from sklearn.metrics import precision_score, recall_score\n",
    "from sklearn.metrics import ConfusionMatrixDisplay\n",
    "from sklearn.metrics import classification_report\n",
    "from sklearn.metrics import make_scorer\n",
    "from sklearn.metrics import fbeta_score\n",
    "import matplotlib.pyplot as plt"
   ]
  },
  {
   "cell_type": "markdown",
   "id": "26031441-d6bb-4a89-a7da-bc7e070e82e1",
   "metadata": {},
   "source": [
    "#### Load and split the data"
   ]
  },
  {
   "cell_type": "code",
   "execution_count": 2,
   "id": "afa6c942-6814-43b5-866c-1496d3f4974d",
   "metadata": {},
   "outputs": [
    {
     "data": {
      "text/html": [
       "<div>\n",
       "<style scoped>\n",
       "    .dataframe tbody tr th:only-of-type {\n",
       "        vertical-align: middle;\n",
       "    }\n",
       "\n",
       "    .dataframe tbody tr th {\n",
       "        vertical-align: top;\n",
       "    }\n",
       "\n",
       "    .dataframe thead th {\n",
       "        text-align: right;\n",
       "    }\n",
       "</style>\n",
       "<table border=\"1\" class=\"dataframe\">\n",
       "  <thead>\n",
       "    <tr style=\"text-align: right;\">\n",
       "      <th></th>\n",
       "      <th>AGE</th>\n",
       "      <th>FRW</th>\n",
       "      <th>SBP</th>\n",
       "      <th>DBP</th>\n",
       "      <th>CHOL</th>\n",
       "      <th>CIG</th>\n",
       "      <th>sex</th>\n",
       "      <th>disease</th>\n",
       "    </tr>\n",
       "  </thead>\n",
       "  <tbody>\n",
       "    <tr>\n",
       "      <th>723</th>\n",
       "      <td>50</td>\n",
       "      <td>118.0</td>\n",
       "      <td>160</td>\n",
       "      <td>100</td>\n",
       "      <td>334</td>\n",
       "      <td>20.0</td>\n",
       "      <td>Female</td>\n",
       "      <td>0</td>\n",
       "    </tr>\n",
       "    <tr>\n",
       "      <th>749</th>\n",
       "      <td>52</td>\n",
       "      <td>95.0</td>\n",
       "      <td>135</td>\n",
       "      <td>85</td>\n",
       "      <td>296</td>\n",
       "      <td>20.0</td>\n",
       "      <td>Male</td>\n",
       "      <td>0</td>\n",
       "    </tr>\n",
       "    <tr>\n",
       "      <th>66</th>\n",
       "      <td>48</td>\n",
       "      <td>90.0</td>\n",
       "      <td>120</td>\n",
       "      <td>80</td>\n",
       "      <td>200</td>\n",
       "      <td>15.0</td>\n",
       "      <td>Male</td>\n",
       "      <td>0</td>\n",
       "    </tr>\n",
       "    <tr>\n",
       "      <th>240</th>\n",
       "      <td>55</td>\n",
       "      <td>118.0</td>\n",
       "      <td>190</td>\n",
       "      <td>110</td>\n",
       "      <td>220</td>\n",
       "      <td>20.0</td>\n",
       "      <td>Female</td>\n",
       "      <td>0</td>\n",
       "    </tr>\n",
       "    <tr>\n",
       "      <th>246</th>\n",
       "      <td>47</td>\n",
       "      <td>83.0</td>\n",
       "      <td>140</td>\n",
       "      <td>78</td>\n",
       "      <td>170</td>\n",
       "      <td>20.0</td>\n",
       "      <td>Male</td>\n",
       "      <td>1</td>\n",
       "    </tr>\n",
       "    <tr>\n",
       "      <th>...</th>\n",
       "      <td>...</td>\n",
       "      <td>...</td>\n",
       "      <td>...</td>\n",
       "      <td>...</td>\n",
       "      <td>...</td>\n",
       "      <td>...</td>\n",
       "      <td>...</td>\n",
       "      <td>...</td>\n",
       "    </tr>\n",
       "    <tr>\n",
       "      <th>1147</th>\n",
       "      <td>51</td>\n",
       "      <td>118.0</td>\n",
       "      <td>124</td>\n",
       "      <td>78</td>\n",
       "      <td>242</td>\n",
       "      <td>0.0</td>\n",
       "      <td>Male</td>\n",
       "      <td>0</td>\n",
       "    </tr>\n",
       "    <tr>\n",
       "      <th>106</th>\n",
       "      <td>53</td>\n",
       "      <td>116.0</td>\n",
       "      <td>124</td>\n",
       "      <td>72</td>\n",
       "      <td>142</td>\n",
       "      <td>30.0</td>\n",
       "      <td>Male</td>\n",
       "      <td>0</td>\n",
       "    </tr>\n",
       "    <tr>\n",
       "      <th>1041</th>\n",
       "      <td>51</td>\n",
       "      <td>76.0</td>\n",
       "      <td>96</td>\n",
       "      <td>68</td>\n",
       "      <td>265</td>\n",
       "      <td>20.0</td>\n",
       "      <td>Male</td>\n",
       "      <td>0</td>\n",
       "    </tr>\n",
       "    <tr>\n",
       "      <th>1122</th>\n",
       "      <td>49</td>\n",
       "      <td>100.0</td>\n",
       "      <td>120</td>\n",
       "      <td>84</td>\n",
       "      <td>201</td>\n",
       "      <td>20.0</td>\n",
       "      <td>Male</td>\n",
       "      <td>0</td>\n",
       "    </tr>\n",
       "    <tr>\n",
       "      <th>1346</th>\n",
       "      <td>53</td>\n",
       "      <td>120.0</td>\n",
       "      <td>152</td>\n",
       "      <td>100</td>\n",
       "      <td>242</td>\n",
       "      <td>0.0</td>\n",
       "      <td>Female</td>\n",
       "      <td>0</td>\n",
       "    </tr>\n",
       "  </tbody>\n",
       "</table>\n",
       "<p>1090 rows × 8 columns</p>\n",
       "</div>"
      ],
      "text/plain": [
       "      AGE    FRW  SBP  DBP  CHOL   CIG     sex  disease\n",
       "723    50  118.0  160  100   334  20.0  Female        0\n",
       "749    52   95.0  135   85   296  20.0    Male        0\n",
       "66     48   90.0  120   80   200  15.0    Male        0\n",
       "240    55  118.0  190  110   220  20.0  Female        0\n",
       "246    47   83.0  140   78   170  20.0    Male        1\n",
       "...   ...    ...  ...  ...   ...   ...     ...      ...\n",
       "1147   51  118.0  124   78   242   0.0    Male        0\n",
       "106    53  116.0  124   72   142  30.0    Male        0\n",
       "1041   51   76.0   96   68   265  20.0    Male        0\n",
       "1122   49  100.0  120   84   201  20.0    Male        0\n",
       "1346   53  120.0  152  100   242   0.0  Female        0\n",
       "\n",
       "[1090 rows x 8 columns]"
      ]
     },
     "execution_count": 2,
     "metadata": {},
     "output_type": "execute_result"
    }
   ],
   "source": [
    "#import data and split into train and test\n",
    "df = pd.read_csv(\"data/framingham.csv\")\n",
    "train_df, test_df = train_test_split(df, test_size=0.2, random_state=123)\n",
    "train_df"
   ]
  },
  {
   "cell_type": "code",
   "execution_count": 3,
   "id": "031fac94-39a1-4435-a39e-30c80fdff430",
   "metadata": {},
   "outputs": [],
   "source": [
    "#Separate target value form train and test set \n",
    "X_train = train_df.drop(columns=\"disease\")\n",
    "y_train = train_df[\"disease\"]\n",
    "\n",
    "X_test = test_df.drop(columns=[\"disease\"])\n",
    "y_test = test_df[\"disease\"]"
   ]
  },
  {
   "cell_type": "markdown",
   "id": "db5aafbd-c29f-45c5-a8c6-702c58f10d21",
   "metadata": {},
   "source": [
    "#### Data\n",
    "The dataset utilized is derived from the \"Framingham Heart Study,\" encompassing observations on n=1,363 individuals. Each row contains  key health indicators for each person, as well as whether the person suffers from a coronary heart disease indicated by the values zero or one. \n"
   ]
  },
  {
   "cell_type": "markdown",
   "id": "75cef766-c7e9-4983-899a-2c56d2fb53aa",
   "metadata": {},
   "source": [
    "#### Preprocessing Data\n",
    "All the features appear to exhibit some relevance in predicting whether a patient has the disease or not. Therefore, we will refrain from excluding any feature from our model.\n",
    "\n",
    "##### Numeric features:\n",
    "- AGE\n",
    "- FRW\n",
    "- SBP\n",
    "- DBP\n",
    "- CHOl\n",
    "- CIG\n",
    "  \n",
    "To account for some of the missing values in the numeric columns, we need to do imputation. Due to the skewed distribution of specific features, especially CIG, it's recommended to use the median of the corresponding columns rather than the mean for imputing missing values.\n",
    "Moreover, given the varied scales of the features, it is essential to apply a StandardScaler."
   ]
  },
  {
   "cell_type": "code",
   "execution_count": 4,
   "id": "a1fd9e88-4813-41c9-b36f-e1038c4effb9",
   "metadata": {},
   "outputs": [],
   "source": [
    "#Create pipeline for numeric features \n",
    "numeric_pipe = make_pipeline(\n",
    "    SimpleImputer(strategy = \"median\"), StandardScaler()\n",
    ")"
   ]
  },
  {
   "cell_type": "markdown",
   "id": "b8ff6d8e-dac3-4e52-a96b-e594908f3657",
   "metadata": {},
   "source": [
    "##### Categorical Feature: \n",
    "- SEX\n",
    "  \n",
    "In this data set, gender is considered a binary feature. Consequently, we can employ `OneHotEncoding` with the `drop=\"if_binary\"`\n",
    " argument, resulting in the creation of a single binary-encoded column instead of two. Since this column, does not have any missing value, there is no need for Imputation."
   ]
  },
  {
   "cell_type": "code",
   "execution_count": 5,
   "id": "dea2c843-8299-4ac9-9ed6-12f0c033f13c",
   "metadata": {},
   "outputs": [],
   "source": [
    "numeric_features = X_train.select_dtypes(include='number').columns.tolist()\n",
    "categorical_features = [\"sex\"]"
   ]
  },
  {
   "cell_type": "code",
   "execution_count": 6,
   "id": "b7204bfd-54e4-469c-a3a4-f37708c47068",
   "metadata": {},
   "outputs": [],
   "source": [
    "#Create Column Transformer \n",
    "preprocessor = make_column_transformer(    \n",
    "    (numeric_pipe, numeric_features),  \n",
    "    (OneHotEncoder(drop=\"if_binary\", sparse_output = False), categorical_features)\n",
    ")"
   ]
  },
  {
   "cell_type": "markdown",
   "id": "7c5f2860-b44e-44f7-8d5b-3a6424417bab",
   "metadata": {},
   "source": [
    "#### Model Selection\n",
    "##### Logistic Regression\n",
    "We are interested in determining whether a patient suffers from a disease or not, which constitutes a classification problem. To address this, we employ a `Logistic Regression model`. Considering the substantial class imbalance and the fact that we are rather concerned about false negatives in the medical context — as we aim to minimize instances where patients miss critical treatment — we should make use of the argument `class_weight` argument. By trying out different values for the `class_weight`, we see that 1:6 seems to gives as a satisfactory result for our recall-precision trade off.\n"
   ]
  },
  {
   "cell_type": "code",
   "execution_count": 7,
   "id": "296c9473-4a00-4a4c-9439-309559715fd9",
   "metadata": {},
   "outputs": [],
   "source": [
    "pipe = make_pipeline(preprocessor, LogisticRegression(class_weight={0: 1, 1: 6}))"
   ]
  },
  {
   "cell_type": "markdown",
   "id": "76c3fbd4-96cb-4ce7-9d55-e87da554125a",
   "metadata": {},
   "source": [
    "##### Hyperparameter Optimization\n",
    "In order to find the best model and avoid under-/overfitting we want to improve the hyperparameter C of the LogisticRegression via Gridsearch."
   ]
  },
  {
   "cell_type": "code",
   "execution_count": 8,
   "id": "c027fe19-a85d-456a-b032-f7801001eea6",
   "metadata": {},
   "outputs": [
    {
     "data": {
      "text/html": [
       "<style>#sk-container-id-1 {color: black;}#sk-container-id-1 pre{padding: 0;}#sk-container-id-1 div.sk-toggleable {background-color: white;}#sk-container-id-1 label.sk-toggleable__label {cursor: pointer;display: block;width: 100%;margin-bottom: 0;padding: 0.3em;box-sizing: border-box;text-align: center;}#sk-container-id-1 label.sk-toggleable__label-arrow:before {content: \"▸\";float: left;margin-right: 0.25em;color: #696969;}#sk-container-id-1 label.sk-toggleable__label-arrow:hover:before {color: black;}#sk-container-id-1 div.sk-estimator:hover label.sk-toggleable__label-arrow:before {color: black;}#sk-container-id-1 div.sk-toggleable__content {max-height: 0;max-width: 0;overflow: hidden;text-align: left;background-color: #f0f8ff;}#sk-container-id-1 div.sk-toggleable__content pre {margin: 0.2em;color: black;border-radius: 0.25em;background-color: #f0f8ff;}#sk-container-id-1 input.sk-toggleable__control:checked~div.sk-toggleable__content {max-height: 200px;max-width: 100%;overflow: auto;}#sk-container-id-1 input.sk-toggleable__control:checked~label.sk-toggleable__label-arrow:before {content: \"▾\";}#sk-container-id-1 div.sk-estimator input.sk-toggleable__control:checked~label.sk-toggleable__label {background-color: #d4ebff;}#sk-container-id-1 div.sk-label input.sk-toggleable__control:checked~label.sk-toggleable__label {background-color: #d4ebff;}#sk-container-id-1 input.sk-hidden--visually {border: 0;clip: rect(1px 1px 1px 1px);clip: rect(1px, 1px, 1px, 1px);height: 1px;margin: -1px;overflow: hidden;padding: 0;position: absolute;width: 1px;}#sk-container-id-1 div.sk-estimator {font-family: monospace;background-color: #f0f8ff;border: 1px dotted black;border-radius: 0.25em;box-sizing: border-box;margin-bottom: 0.5em;}#sk-container-id-1 div.sk-estimator:hover {background-color: #d4ebff;}#sk-container-id-1 div.sk-parallel-item::after {content: \"\";width: 100%;border-bottom: 1px solid gray;flex-grow: 1;}#sk-container-id-1 div.sk-label:hover label.sk-toggleable__label {background-color: #d4ebff;}#sk-container-id-1 div.sk-serial::before {content: \"\";position: absolute;border-left: 1px solid gray;box-sizing: border-box;top: 0;bottom: 0;left: 50%;z-index: 0;}#sk-container-id-1 div.sk-serial {display: flex;flex-direction: column;align-items: center;background-color: white;padding-right: 0.2em;padding-left: 0.2em;position: relative;}#sk-container-id-1 div.sk-item {position: relative;z-index: 1;}#sk-container-id-1 div.sk-parallel {display: flex;align-items: stretch;justify-content: center;background-color: white;position: relative;}#sk-container-id-1 div.sk-item::before, #sk-container-id-1 div.sk-parallel-item::before {content: \"\";position: absolute;border-left: 1px solid gray;box-sizing: border-box;top: 0;bottom: 0;left: 50%;z-index: -1;}#sk-container-id-1 div.sk-parallel-item {display: flex;flex-direction: column;z-index: 1;position: relative;background-color: white;}#sk-container-id-1 div.sk-parallel-item:first-child::after {align-self: flex-end;width: 50%;}#sk-container-id-1 div.sk-parallel-item:last-child::after {align-self: flex-start;width: 50%;}#sk-container-id-1 div.sk-parallel-item:only-child::after {width: 0;}#sk-container-id-1 div.sk-dashed-wrapped {border: 1px dashed gray;margin: 0 0.4em 0.5em 0.4em;box-sizing: border-box;padding-bottom: 0.4em;background-color: white;}#sk-container-id-1 div.sk-label label {font-family: monospace;font-weight: bold;display: inline-block;line-height: 1.2em;}#sk-container-id-1 div.sk-label-container {text-align: center;}#sk-container-id-1 div.sk-container {/* jupyter's `normalize.less` sets `[hidden] { display: none; }` but bootstrap.min.css set `[hidden] { display: none !important; }` so we also need the `!important` here to be able to override the default hidden behavior on the sphinx rendered scikit-learn.org. See: https://github.com/scikit-learn/scikit-learn/issues/21755 */display: inline-block !important;position: relative;}#sk-container-id-1 div.sk-text-repr-fallback {display: none;}</style><div id=\"sk-container-id-1\" class=\"sk-top-container\"><div class=\"sk-text-repr-fallback\"><pre>GridSearchCV(estimator=Pipeline(steps=[(&#x27;columntransformer&#x27;,\n",
       "                                        ColumnTransformer(transformers=[(&#x27;pipeline&#x27;,\n",
       "                                                                         Pipeline(steps=[(&#x27;simpleimputer&#x27;,\n",
       "                                                                                          SimpleImputer(strategy=&#x27;median&#x27;)),\n",
       "                                                                                         (&#x27;standardscaler&#x27;,\n",
       "                                                                                          StandardScaler())]),\n",
       "                                                                         [&#x27;AGE&#x27;,\n",
       "                                                                          &#x27;FRW&#x27;,\n",
       "                                                                          &#x27;SBP&#x27;,\n",
       "                                                                          &#x27;DBP&#x27;,\n",
       "                                                                          &#x27;CHOL&#x27;,\n",
       "                                                                          &#x27;CIG&#x27;]),\n",
       "                                                                        (&#x27;onehotencoder&#x27;,\n",
       "                                                                         OneHotEncoder(drop=&#x27;if_binary&#x27;,\n",
       "                                                                                       sparse_output=False),\n",
       "                                                                         [&#x27;sex&#x27;])])),\n",
       "                                       (&#x27;logisticregression&#x27;,\n",
       "                                        LogisticRegression(class_weight={0: 1,\n",
       "                                                                         1: 6}))]),\n",
       "             n_jobs=-1,\n",
       "             param_grid={&#x27;logisticregression__C&#x27;: array([1.e-04, 1.e-03, 1.e-02, 1.e-01, 1.e+00, 1.e+01, 1.e+02, 1.e+03,\n",
       "       1.e+04, 1.e+05])},\n",
       "             return_train_score=True)</pre><b>In a Jupyter environment, please rerun this cell to show the HTML representation or trust the notebook. <br />On GitHub, the HTML representation is unable to render, please try loading this page with nbviewer.org.</b></div><div class=\"sk-container\" hidden><div class=\"sk-item sk-dashed-wrapped\"><div class=\"sk-label-container\"><div class=\"sk-label sk-toggleable\"><input class=\"sk-toggleable__control sk-hidden--visually\" id=\"sk-estimator-id-1\" type=\"checkbox\" ><label for=\"sk-estimator-id-1\" class=\"sk-toggleable__label sk-toggleable__label-arrow\">GridSearchCV</label><div class=\"sk-toggleable__content\"><pre>GridSearchCV(estimator=Pipeline(steps=[(&#x27;columntransformer&#x27;,\n",
       "                                        ColumnTransformer(transformers=[(&#x27;pipeline&#x27;,\n",
       "                                                                         Pipeline(steps=[(&#x27;simpleimputer&#x27;,\n",
       "                                                                                          SimpleImputer(strategy=&#x27;median&#x27;)),\n",
       "                                                                                         (&#x27;standardscaler&#x27;,\n",
       "                                                                                          StandardScaler())]),\n",
       "                                                                         [&#x27;AGE&#x27;,\n",
       "                                                                          &#x27;FRW&#x27;,\n",
       "                                                                          &#x27;SBP&#x27;,\n",
       "                                                                          &#x27;DBP&#x27;,\n",
       "                                                                          &#x27;CHOL&#x27;,\n",
       "                                                                          &#x27;CIG&#x27;]),\n",
       "                                                                        (&#x27;onehotencoder&#x27;,\n",
       "                                                                         OneHotEncoder(drop=&#x27;if_binary&#x27;,\n",
       "                                                                                       sparse_output=False),\n",
       "                                                                         [&#x27;sex&#x27;])])),\n",
       "                                       (&#x27;logisticregression&#x27;,\n",
       "                                        LogisticRegression(class_weight={0: 1,\n",
       "                                                                         1: 6}))]),\n",
       "             n_jobs=-1,\n",
       "             param_grid={&#x27;logisticregression__C&#x27;: array([1.e-04, 1.e-03, 1.e-02, 1.e-01, 1.e+00, 1.e+01, 1.e+02, 1.e+03,\n",
       "       1.e+04, 1.e+05])},\n",
       "             return_train_score=True)</pre></div></div></div><div class=\"sk-parallel\"><div class=\"sk-parallel-item\"><div class=\"sk-item\"><div class=\"sk-label-container\"><div class=\"sk-label sk-toggleable\"><input class=\"sk-toggleable__control sk-hidden--visually\" id=\"sk-estimator-id-2\" type=\"checkbox\" ><label for=\"sk-estimator-id-2\" class=\"sk-toggleable__label sk-toggleable__label-arrow\">estimator: Pipeline</label><div class=\"sk-toggleable__content\"><pre>Pipeline(steps=[(&#x27;columntransformer&#x27;,\n",
       "                 ColumnTransformer(transformers=[(&#x27;pipeline&#x27;,\n",
       "                                                  Pipeline(steps=[(&#x27;simpleimputer&#x27;,\n",
       "                                                                   SimpleImputer(strategy=&#x27;median&#x27;)),\n",
       "                                                                  (&#x27;standardscaler&#x27;,\n",
       "                                                                   StandardScaler())]),\n",
       "                                                  [&#x27;AGE&#x27;, &#x27;FRW&#x27;, &#x27;SBP&#x27;, &#x27;DBP&#x27;,\n",
       "                                                   &#x27;CHOL&#x27;, &#x27;CIG&#x27;]),\n",
       "                                                 (&#x27;onehotencoder&#x27;,\n",
       "                                                  OneHotEncoder(drop=&#x27;if_binary&#x27;,\n",
       "                                                                sparse_output=False),\n",
       "                                                  [&#x27;sex&#x27;])])),\n",
       "                (&#x27;logisticregression&#x27;,\n",
       "                 LogisticRegression(class_weight={0: 1, 1: 6}))])</pre></div></div></div><div class=\"sk-serial\"><div class=\"sk-item\"><div class=\"sk-serial\"><div class=\"sk-item sk-dashed-wrapped\"><div class=\"sk-label-container\"><div class=\"sk-label sk-toggleable\"><input class=\"sk-toggleable__control sk-hidden--visually\" id=\"sk-estimator-id-3\" type=\"checkbox\" ><label for=\"sk-estimator-id-3\" class=\"sk-toggleable__label sk-toggleable__label-arrow\">columntransformer: ColumnTransformer</label><div class=\"sk-toggleable__content\"><pre>ColumnTransformer(transformers=[(&#x27;pipeline&#x27;,\n",
       "                                 Pipeline(steps=[(&#x27;simpleimputer&#x27;,\n",
       "                                                  SimpleImputer(strategy=&#x27;median&#x27;)),\n",
       "                                                 (&#x27;standardscaler&#x27;,\n",
       "                                                  StandardScaler())]),\n",
       "                                 [&#x27;AGE&#x27;, &#x27;FRW&#x27;, &#x27;SBP&#x27;, &#x27;DBP&#x27;, &#x27;CHOL&#x27;, &#x27;CIG&#x27;]),\n",
       "                                (&#x27;onehotencoder&#x27;,\n",
       "                                 OneHotEncoder(drop=&#x27;if_binary&#x27;,\n",
       "                                               sparse_output=False),\n",
       "                                 [&#x27;sex&#x27;])])</pre></div></div></div><div class=\"sk-parallel\"><div class=\"sk-parallel-item\"><div class=\"sk-item\"><div class=\"sk-label-container\"><div class=\"sk-label sk-toggleable\"><input class=\"sk-toggleable__control sk-hidden--visually\" id=\"sk-estimator-id-4\" type=\"checkbox\" ><label for=\"sk-estimator-id-4\" class=\"sk-toggleable__label sk-toggleable__label-arrow\">pipeline</label><div class=\"sk-toggleable__content\"><pre>[&#x27;AGE&#x27;, &#x27;FRW&#x27;, &#x27;SBP&#x27;, &#x27;DBP&#x27;, &#x27;CHOL&#x27;, &#x27;CIG&#x27;]</pre></div></div></div><div class=\"sk-serial\"><div class=\"sk-item\"><div class=\"sk-serial\"><div class=\"sk-item\"><div class=\"sk-estimator sk-toggleable\"><input class=\"sk-toggleable__control sk-hidden--visually\" id=\"sk-estimator-id-5\" type=\"checkbox\" ><label for=\"sk-estimator-id-5\" class=\"sk-toggleable__label sk-toggleable__label-arrow\">SimpleImputer</label><div class=\"sk-toggleable__content\"><pre>SimpleImputer(strategy=&#x27;median&#x27;)</pre></div></div></div><div class=\"sk-item\"><div class=\"sk-estimator sk-toggleable\"><input class=\"sk-toggleable__control sk-hidden--visually\" id=\"sk-estimator-id-6\" type=\"checkbox\" ><label for=\"sk-estimator-id-6\" class=\"sk-toggleable__label sk-toggleable__label-arrow\">StandardScaler</label><div class=\"sk-toggleable__content\"><pre>StandardScaler()</pre></div></div></div></div></div></div></div></div><div class=\"sk-parallel-item\"><div class=\"sk-item\"><div class=\"sk-label-container\"><div class=\"sk-label sk-toggleable\"><input class=\"sk-toggleable__control sk-hidden--visually\" id=\"sk-estimator-id-7\" type=\"checkbox\" ><label for=\"sk-estimator-id-7\" class=\"sk-toggleable__label sk-toggleable__label-arrow\">onehotencoder</label><div class=\"sk-toggleable__content\"><pre>[&#x27;sex&#x27;]</pre></div></div></div><div class=\"sk-serial\"><div class=\"sk-item\"><div class=\"sk-estimator sk-toggleable\"><input class=\"sk-toggleable__control sk-hidden--visually\" id=\"sk-estimator-id-8\" type=\"checkbox\" ><label for=\"sk-estimator-id-8\" class=\"sk-toggleable__label sk-toggleable__label-arrow\">OneHotEncoder</label><div class=\"sk-toggleable__content\"><pre>OneHotEncoder(drop=&#x27;if_binary&#x27;, sparse_output=False)</pre></div></div></div></div></div></div></div></div><div class=\"sk-item\"><div class=\"sk-estimator sk-toggleable\"><input class=\"sk-toggleable__control sk-hidden--visually\" id=\"sk-estimator-id-9\" type=\"checkbox\" ><label for=\"sk-estimator-id-9\" class=\"sk-toggleable__label sk-toggleable__label-arrow\">LogisticRegression</label><div class=\"sk-toggleable__content\"><pre>LogisticRegression(class_weight={0: 1, 1: 6})</pre></div></div></div></div></div></div></div></div></div></div></div></div>"
      ],
      "text/plain": [
       "GridSearchCV(estimator=Pipeline(steps=[('columntransformer',\n",
       "                                        ColumnTransformer(transformers=[('pipeline',\n",
       "                                                                         Pipeline(steps=[('simpleimputer',\n",
       "                                                                                          SimpleImputer(strategy='median')),\n",
       "                                                                                         ('standardscaler',\n",
       "                                                                                          StandardScaler())]),\n",
       "                                                                         ['AGE',\n",
       "                                                                          'FRW',\n",
       "                                                                          'SBP',\n",
       "                                                                          'DBP',\n",
       "                                                                          'CHOL',\n",
       "                                                                          'CIG']),\n",
       "                                                                        ('onehotencoder',\n",
       "                                                                         OneHotEncoder(drop='if_binary',\n",
       "                                                                                       sparse_output=False),\n",
       "                                                                         ['sex'])])),\n",
       "                                       ('logisticregression',\n",
       "                                        LogisticRegression(class_weight={0: 1,\n",
       "                                                                         1: 6}))]),\n",
       "             n_jobs=-1,\n",
       "             param_grid={'logisticregression__C': array([1.e-04, 1.e-03, 1.e-02, 1.e-01, 1.e+00, 1.e+01, 1.e+02, 1.e+03,\n",
       "       1.e+04, 1.e+05])},\n",
       "             return_train_score=True)"
      ]
     },
     "execution_count": 8,
     "metadata": {},
     "output_type": "execute_result"
    }
   ],
   "source": [
    "# Create a grid search object to fine tune c\n",
    "param_grid = {\n",
    "  \"logisticregression__C\": 10.0 ** np.arange(-4, 6, 1),\n",
    "}\n",
    "gs = GridSearchCV(pipe, param_grid=param_grid, n_jobs=-1, return_train_score=True)\n",
    "gs.fit(X_train, y_train)"
   ]
  },
  {
   "cell_type": "code",
   "execution_count": 9,
   "id": "9bb7e18f-995e-4adb-accd-684fff65dbb9",
   "metadata": {},
   "outputs": [
    {
     "data": {
      "text/html": [
       "<style type=\"text/css\">\n",
       "</style>\n",
       "<table id=\"T_e7f76\">\n",
       "  <caption><p style=\"text-align:left;\">Table 1: Results of Hyperparameter Optimization via Gridsearch</p></caption>\n",
       "  <thead>\n",
       "    <tr>\n",
       "      <th class=\"blank level0\" >&nbsp;</th>\n",
       "      <th id=\"T_e7f76_level0_col0\" class=\"col_heading level0 col0\" >rank_test_score</th>\n",
       "      <th id=\"T_e7f76_level0_col1\" class=\"col_heading level0 col1\" >param_logisticregression__C</th>\n",
       "      <th id=\"T_e7f76_level0_col2\" class=\"col_heading level0 col2\" >mean_train_score</th>\n",
       "      <th id=\"T_e7f76_level0_col3\" class=\"col_heading level0 col3\" >std_train_score</th>\n",
       "      <th id=\"T_e7f76_level0_col4\" class=\"col_heading level0 col4\" >mean_test_score</th>\n",
       "      <th id=\"T_e7f76_level0_col5\" class=\"col_heading level0 col5\" >std_test_score</th>\n",
       "    </tr>\n",
       "  </thead>\n",
       "  <tbody>\n",
       "    <tr>\n",
       "      <th id=\"T_e7f76_level0_row0\" class=\"row_heading level0 row0\" >7</th>\n",
       "      <td id=\"T_e7f76_row0_col0\" class=\"data row0 col0\" >1</td>\n",
       "      <td id=\"T_e7f76_row0_col1\" class=\"data row0 col1\" >1000.000000</td>\n",
       "      <td id=\"T_e7f76_row0_col2\" class=\"data row0 col2\" >0.526835</td>\n",
       "      <td id=\"T_e7f76_row0_col3\" class=\"data row0 col3\" >0.025495</td>\n",
       "      <td id=\"T_e7f76_row0_col4\" class=\"data row0 col4\" >0.519266</td>\n",
       "      <td id=\"T_e7f76_row0_col5\" class=\"data row0 col5\" >0.032097</td>\n",
       "    </tr>\n",
       "    <tr>\n",
       "      <th id=\"T_e7f76_level0_row1\" class=\"row_heading level0 row1\" >8</th>\n",
       "      <td id=\"T_e7f76_row1_col0\" class=\"data row1 col0\" >1</td>\n",
       "      <td id=\"T_e7f76_row1_col1\" class=\"data row1 col1\" >10000.000000</td>\n",
       "      <td id=\"T_e7f76_row1_col2\" class=\"data row1 col2\" >0.526835</td>\n",
       "      <td id=\"T_e7f76_row1_col3\" class=\"data row1 col3\" >0.025495</td>\n",
       "      <td id=\"T_e7f76_row1_col4\" class=\"data row1 col4\" >0.519266</td>\n",
       "      <td id=\"T_e7f76_row1_col5\" class=\"data row1 col5\" >0.032097</td>\n",
       "    </tr>\n",
       "    <tr>\n",
       "      <th id=\"T_e7f76_level0_row2\" class=\"row_heading level0 row2\" >9</th>\n",
       "      <td id=\"T_e7f76_row2_col0\" class=\"data row2 col0\" >1</td>\n",
       "      <td id=\"T_e7f76_row2_col1\" class=\"data row2 col1\" >100000.000000</td>\n",
       "      <td id=\"T_e7f76_row2_col2\" class=\"data row2 col2\" >0.526835</td>\n",
       "      <td id=\"T_e7f76_row2_col3\" class=\"data row2 col3\" >0.025495</td>\n",
       "      <td id=\"T_e7f76_row2_col4\" class=\"data row2 col4\" >0.519266</td>\n",
       "      <td id=\"T_e7f76_row2_col5\" class=\"data row2 col5\" >0.032097</td>\n",
       "    </tr>\n",
       "    <tr>\n",
       "      <th id=\"T_e7f76_level0_row3\" class=\"row_heading level0 row3\" >4</th>\n",
       "      <td id=\"T_e7f76_row3_col0\" class=\"data row3 col0\" >4</td>\n",
       "      <td id=\"T_e7f76_row3_col1\" class=\"data row3 col1\" >1.000000</td>\n",
       "      <td id=\"T_e7f76_row3_col2\" class=\"data row3 col2\" >0.526835</td>\n",
       "      <td id=\"T_e7f76_row3_col3\" class=\"data row3 col3\" >0.025495</td>\n",
       "      <td id=\"T_e7f76_row3_col4\" class=\"data row3 col4\" >0.518349</td>\n",
       "      <td id=\"T_e7f76_row3_col5\" class=\"data row3 col5\" >0.030150</td>\n",
       "    </tr>\n",
       "    <tr>\n",
       "      <th id=\"T_e7f76_level0_row4\" class=\"row_heading level0 row4\" >5</th>\n",
       "      <td id=\"T_e7f76_row4_col0\" class=\"data row4 col0\" >4</td>\n",
       "      <td id=\"T_e7f76_row4_col1\" class=\"data row4 col1\" >10.000000</td>\n",
       "      <td id=\"T_e7f76_row4_col2\" class=\"data row4 col2\" >0.526835</td>\n",
       "      <td id=\"T_e7f76_row4_col3\" class=\"data row4 col3\" >0.025495</td>\n",
       "      <td id=\"T_e7f76_row4_col4\" class=\"data row4 col4\" >0.518349</td>\n",
       "      <td id=\"T_e7f76_row4_col5\" class=\"data row4 col5\" >0.030703</td>\n",
       "    </tr>\n",
       "  </tbody>\n",
       "</table>\n"
      ],
      "text/plain": [
       "<pandas.io.formats.style.Styler at 0x14c8c3a30>"
      ]
     },
     "execution_count": 9,
     "metadata": {},
     "output_type": "execute_result"
    }
   ],
   "source": [
    "gs_res = pd.DataFrame(gs.cv_results_)[[\n",
    "    'rank_test_score', 'param_logisticregression__C', \n",
    "    'mean_train_score', 'std_train_score', 'mean_test_score', 'std_test_score']].sort_values('rank_test_score').head(5)\n",
    "gs_res.style.set_caption('<p style=\"text-align:left;\">Table 1: Results of Hyperparameter Optimization via Gridsearch</p>')"
   ]
  },
  {
   "cell_type": "code",
   "execution_count": 10,
   "id": "02474ea3-8d68-4b1a-8658-a63dbade2b9e",
   "metadata": {},
   "outputs": [
    {
     "data": {
      "text/plain": [
       "{'logisticregression__C': 1000.0}"
      ]
     },
     "execution_count": 10,
     "metadata": {},
     "output_type": "execute_result"
    }
   ],
   "source": [
    "gs.best_params_ #value for C: 1000"
   ]
  },
  {
   "cell_type": "code",
   "execution_count": 11,
   "id": "1d86088d-29b6-4683-a698-36b88af4dc22",
   "metadata": {},
   "outputs": [
    {
     "data": {
      "text/plain": [
       "0.5192660550458716"
      ]
     },
     "execution_count": 11,
     "metadata": {},
     "output_type": "execute_result"
    }
   ],
   "source": [
    "gs.best_score_"
   ]
  },
  {
   "cell_type": "markdown",
   "id": "6bce6411-0b01-4541-916e-8c759f785427",
   "metadata": {},
   "source": [
    "##### Applying on test data"
   ]
  },
  {
   "cell_type": "code",
   "execution_count": 12,
   "id": "8c6889e6-00a5-478e-8bb6-94800665aafb",
   "metadata": {},
   "outputs": [
    {
     "data": {
      "text/plain": [
       "0.5531135531135531"
      ]
     },
     "execution_count": 12,
     "metadata": {},
     "output_type": "execute_result"
    }
   ],
   "source": [
    "gs.score(X_test, y_test)"
   ]
  },
  {
   "cell_type": "markdown",
   "id": "ba590acb-6f49-4c94-be70-72bd6e570f18",
   "metadata": {},
   "source": [
    "For test data, we get an accuracy of 53.1%. The accuracy is a metric which is defined to be the fraction of correct predictions divded by all predictions. \n",
    "This implies, that in 53% of our test examples we predict the target correctly, which seems to be pretty low. However, as mentioned above we should be careful when interpreting this metric especially in the case of the class imbalance, which is given in our data set. Instead, we should examine how the model predictions are correct and incorrect. "
   ]
  },
  {
   "cell_type": "markdown",
   "id": "d1498a97-0f7e-4a2b-81fc-8319a0d9c370",
   "metadata": {},
   "source": [
    "##### Visualization of Predictions Results"
   ]
  },
  {
   "cell_type": "code",
   "execution_count": 13,
   "id": "fdf037a7-d345-43ff-a153-a9944cea8caa",
   "metadata": {},
   "outputs": [
    {
     "data": {
      "image/png": "[encoded data removed]",
      "text/plain": [
       "<Figure size 640x480 with 2 Axes>"
      ]
     },
     "metadata": {},
     "output_type": "display_data"
    }
   ],
   "source": [
    "#Create a Confusion Matrix\n",
    "ConfusionMatrixDisplay.from_predictions(\n",
    "    y_test,  # true class labels\n",
    "    gs.predict(X_test),  # predicted class labels\n",
    ")\n",
    "plt.title('Figure 1: Confusion Matrix LogR on Test Data')\n",
    "plt.show()"
   ]
  },
  {
   "cell_type": "code",
   "execution_count": 14,
   "id": "f7163e82-862b-4fc8-983d-99cdda904619",
   "metadata": {},
   "outputs": [
    {
     "name": "stdout",
     "output_type": "stream",
     "text": [
      "Table 2: Classification Report for Test Data\n",
      "              precision    recall  f1-score   support\n",
      "\n",
      "           0       0.92      0.47      0.63       215\n",
      "           1       0.30      0.84      0.45        58\n",
      "\n",
      "    accuracy                           0.55       273\n",
      "   macro avg       0.61      0.66      0.54       273\n",
      "weighted avg       0.79      0.55      0.59       273\n",
      "\n"
     ]
    }
   ],
   "source": [
    "#Classification report\n",
    "print('Table 2: Classification Report for Test Data')\n",
    "print(\n",
    "    classification_report(\n",
    "        y_test, gs.predict(X_test)\n",
    "    )\n",
    ")"
   ]
  },
  {
   "cell_type": "markdown",
   "id": "820c7415-7910-434b-bee7-1518e2de7031",
   "metadata": {},
   "source": [
    "In the graphic and the classification report we can see that we have a very high recall score (0.84), which is desired in our scenario. However, the precision score with a value of 0.30 is pretty low as we have many false positives (Type I error) rather than false negatives, type II errors. With an accuracy value of 0.55, the performance appears to be relatively low. Thus, we are interested in exploring a different model for predicting whether a patient suffers from a disease or not."
   ]
  },
  {
   "cell_type": "markdown",
   "id": "f9e124e3-f3c5-495d-bc78-50eb157203fb",
   "metadata": {},
   "source": [
    "##### k-Nearest Neighbours "
   ]
  },
  {
   "cell_type": "markdown",
   "id": "1a531f38-b372-4c76-bf15-74fdbe186aac",
   "metadata": {},
   "source": [
    "In the following, we apply an analogy-based model to predict the class of the data point by finding the “closest” data points in the training set and taking the majority vote of the k nearest neighbours. First, we use cross validation to find the best value for `k`. "
   ]
  },
  {
   "cell_type": "code",
   "execution_count": 15,
   "id": "27b3ba1a-7c2b-4d8d-9c38-3d4ac5f82560",
   "metadata": {},
   "outputs": [],
   "source": [
    "results_dict = {\n",
    "    \"n_neighbors\": [],\n",
    "    \"mean_train_score\": [],\n",
    "    \"mean_cv_score\": [],\n",
    "    \"std_cv_score\": [],\n",
    "    \"std_train_score\": [],\n",
    "}\n",
    "param_grid = {\"n_neighbors\": np.arange(1, 50, 5)}\n",
    "\n",
    "for k in param_grid[\"n_neighbors\"]:\n",
    "    knn = KNeighborsClassifier(n_neighbors=k)\n",
    "    pipe = make_pipeline(preprocessor, knn)\n",
    "    scores = cross_validate(pipe, X_train, y_train, return_train_score=True)\n",
    "    results_dict[\"n_neighbors\"].append(k)\n",
    "\n",
    "    results_dict[\"mean_cv_score\"].append(np.mean(scores[\"test_score\"]))\n",
    "    results_dict[\"mean_train_score\"].append(np.mean(scores[\"train_score\"]))\n",
    "    results_dict[\"std_cv_score\"].append(scores[\"test_score\"].std())\n",
    "    results_dict[\"std_train_score\"].append(scores[\"train_score\"].std())\n",
    "\n",
    "results_df = pd.DataFrame(results_dict)"
   ]
  },
  {
   "cell_type": "code",
   "execution_count": 16,
   "id": "e856909c-0adf-4c12-90c5-38a4f2c1d90f",
   "metadata": {},
   "outputs": [
    {
     "data": {
      "text/html": [
       "<div>\n",
       "<style scoped>\n",
       "    .dataframe tbody tr th:only-of-type {\n",
       "        vertical-align: middle;\n",
       "    }\n",
       "\n",
       "    .dataframe tbody tr th {\n",
       "        vertical-align: top;\n",
       "    }\n",
       "\n",
       "    .dataframe thead th {\n",
       "        text-align: right;\n",
       "    }\n",
       "</style>\n",
       "<table border=\"1\" class=\"dataframe\">\n",
       "  <thead>\n",
       "    <tr style=\"text-align: right;\">\n",
       "      <th></th>\n",
       "      <th>n_neighbors</th>\n",
       "      <th>mean_train_score</th>\n",
       "      <th>mean_cv_score</th>\n",
       "      <th>std_cv_score</th>\n",
       "      <th>std_train_score</th>\n",
       "    </tr>\n",
       "  </thead>\n",
       "  <tbody>\n",
       "    <tr>\n",
       "      <th>0</th>\n",
       "      <td>1</td>\n",
       "      <td>1.000000</td>\n",
       "      <td>0.707339</td>\n",
       "      <td>0.013731</td>\n",
       "      <td>0.000000</td>\n",
       "    </tr>\n",
       "    <tr>\n",
       "      <th>1</th>\n",
       "      <td>6</td>\n",
       "      <td>0.822018</td>\n",
       "      <td>0.800917</td>\n",
       "      <td>0.018025</td>\n",
       "      <td>0.004128</td>\n",
       "    </tr>\n",
       "    <tr>\n",
       "      <th>2</th>\n",
       "      <td>11</td>\n",
       "      <td>0.816514</td>\n",
       "      <td>0.793578</td>\n",
       "      <td>0.011962</td>\n",
       "      <td>0.003324</td>\n",
       "    </tr>\n",
       "    <tr>\n",
       "      <th>3</th>\n",
       "      <td>16</td>\n",
       "      <td>0.806651</td>\n",
       "      <td>0.802752</td>\n",
       "      <td>0.006487</td>\n",
       "      <td>0.003946</td>\n",
       "    </tr>\n",
       "    <tr>\n",
       "      <th>4</th>\n",
       "      <td>21</td>\n",
       "      <td>0.805963</td>\n",
       "      <td>0.800917</td>\n",
       "      <td>0.006222</td>\n",
       "      <td>0.001521</td>\n",
       "    </tr>\n",
       "  </tbody>\n",
       "</table>\n",
       "</div>"
      ],
      "text/plain": [
       "   n_neighbors  mean_train_score  mean_cv_score  std_cv_score  std_train_score\n",
       "0            1          1.000000       0.707339      0.013731         0.000000\n",
       "1            6          0.822018       0.800917      0.018025         0.004128\n",
       "2           11          0.816514       0.793578      0.011962         0.003324\n",
       "3           16          0.806651       0.802752      0.006487         0.003946\n",
       "4           21          0.805963       0.800917      0.006222         0.001521"
      ]
     },
     "execution_count": 16,
     "metadata": {},
     "output_type": "execute_result"
    }
   ],
   "source": [
    "results_df.head(5)"
   ]
  },
  {
   "cell_type": "markdown",
   "id": "ab34b76b-976a-429d-b5f3-745e5338d635",
   "metadata": {},
   "source": [
    "We can see that k=1 performs best. However, this model would suffer from overfitting, as indicated by the high train_score and the high gap between the cv_score and the train_score. Thus, we use the second best performing k=6 for our model."
   ]
  },
  {
   "cell_type": "code",
   "execution_count": 17,
   "id": "06fdda96-6f9f-4654-937e-6866e0f2799f",
   "metadata": {},
   "outputs": [
    {
     "data": {
      "text/plain": [
       "0.7875457875457875"
      ]
     },
     "execution_count": 17,
     "metadata": {},
     "output_type": "execute_result"
    }
   ],
   "source": [
    "#Create pipeline\n",
    "pipe_knn = make_pipeline(preprocessor, KNeighborsClassifier(n_neighbors=6))\n",
    "pipe_knn.fit(X_train, y_train)\n",
    "pipe_knn.score(X_test,y_test)\n"
   ]
  },
  {
   "cell_type": "code",
   "execution_count": 18,
   "id": "b308f01c-5f75-4ceb-a566-442e62e01551",
   "metadata": {},
   "outputs": [
    {
     "data": {
      "text/plain": [
       "0.05172413793103448"
      ]
     },
     "execution_count": 18,
     "metadata": {},
     "output_type": "execute_result"
    }
   ],
   "source": [
    "recall_score(y_test, pipe_knn.predict(X_test), pos_label=1)"
   ]
  },
  {
   "cell_type": "markdown",
   "id": "53177e78-5781-4be3-ab8f-611b0e680d11",
   "metadata": {},
   "source": [
    "In this case, we get a decent  accuracy of approximately 79 %. However, the recall score is really low (0.05), which implies that we have many false negatives/type II errors, which is undesirable in the medical context. The primary reason for this may lie in the imbalanced data set, that contains much more negative cases than positive ones and which affects the prediction of our model, which is based on the closest neighbors. In order to create a model which scores better in the recall, we could use `oversampling`. This technique tries to encounter class imbalance by randomly duplicating examples from the minority class and adding them to the training data set."
   ]
  },
  {
   "cell_type": "code",
   "execution_count": 19,
   "id": "3c425ca0-95ac-4407-a39f-27a19c05ecb2",
   "metadata": {},
   "outputs": [
    {
     "data": {
      "text/plain": [
       "0.6373626373626373"
      ]
     },
     "execution_count": 19,
     "metadata": {},
     "output_type": "execute_result"
    }
   ],
   "source": [
    "#Oversampling\n",
    "ros = RandomOverSampler(random_state=0)\n",
    "X_resampled, y_resampled = ros.fit_resample(X_train, y_train)\n",
    "pipe_knn.fit(X_resampled, y_resampled)\n",
    "pipe_knn.score(X_test,y_test)"
   ]
  },
  {
   "cell_type": "code",
   "execution_count": 20,
   "id": "1f3347a8-8330-44a7-b641-0258a124f883",
   "metadata": {},
   "outputs": [
    {
     "data": {
      "text/plain": [
       "0.5172413793103449"
      ]
     },
     "execution_count": 20,
     "metadata": {},
     "output_type": "execute_result"
    }
   ],
   "source": [
    "recall_score(y_test, pipe_knn.predict(X_test), pos_label=1)"
   ]
  },
  {
   "cell_type": "code",
   "execution_count": 21,
   "id": "8f4277ec-fcd8-4589-ba6e-0fba84ed8d18",
   "metadata": {},
   "outputs": [
    {
     "data": {
      "image/png": "[encoded data removed]",
      "text/plain": [
       "<Figure size 640x480 with 2 Axes>"
      ]
     },
     "metadata": {},
     "output_type": "display_data"
    }
   ],
   "source": [
    "#Create a Confusion Matrix for KNN\n",
    "ConfusionMatrixDisplay.from_predictions(\n",
    "    y_test,  # true class labels\n",
    "    pipe_knn.predict(X_test),  # predicted class labels\n",
    ")\n",
    "plt.title('Figure 2: Confusion Matrix KNN on Test Data')\n",
    "plt.show()"
   ]
  },
  {
   "cell_type": "markdown",
   "id": "32238dd8-5ba6-4afa-8db1-d544f537a934",
   "metadata": {},
   "source": [
    "Applying the over_sampling technique resulted in a significant boost in recall, albeit at the expense of a decrease in accuracy from 78% to 64%. This indicates that the current model configuration may not be optimal. The underlying cause of this discrepancy is likely rooted in the inherent characteristics of the data set. The features may not be too informative or sufficient for predicting whether a patient suffers from a coronary heart disease. The features provide more of an indication of whether a person is at risk for coronary heart disease. Therefore, it would probably result in a better model to have multiple variables in the target, indicating whether a patient already shows initial signs of the disease, rather than using a binary classification model."
   ]
  },
  {
   "cell_type": "markdown",
   "id": "76ad4337-50ab-4bd3-b9bc-19c573933717",
   "metadata": {},
   "source": [
    "#### Conclusion\n",
    "In the above analysis we employ two models, `Logistic Regression` and `knn`. Based on the results of these models, we would rather suggest to employ `Logistic Regression` with the class_weight argument due to its superior recall. However, it's important to note that both model are poorly performing on the accuracy score.Therefore, for subsequent analyses, it becomes imperative to delve deeper into the specific features and their contributions to predictions or conduct additional data preprocessing to refine the model's overall effectiveness."
   ]
  },
  {
   "cell_type": "code",
   "execution_count": null,
   "id": "1a03eb8d-a040-491f-856d-0a40e5d84266",
   "metadata": {},
   "outputs": [],
   "source": []
  }
 ],
 "metadata": {
  "kernelspec": {
   "display_name": "Python [conda env:522-project-disease]",
   "language": "python",
   "name": "conda-env-522-project-disease-py"
  },
  "language_info": {
   "codemirror_mode": {
    "name": "ipython",
    "version": 3
   },
   "file_extension": ".py",
   "mimetype": "text/x-python",
   "name": "python",
   "nbconvert_exporter": "python",
   "pygments_lexer": "ipython3",
   "version": "3.10.0"
  }
 },
 "nbformat": 4,
 "nbformat_minor": 5
}
